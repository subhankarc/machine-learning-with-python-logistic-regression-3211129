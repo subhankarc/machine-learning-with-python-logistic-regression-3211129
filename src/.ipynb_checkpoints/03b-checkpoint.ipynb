{
 "cells": [
  {
   "cell_type": "markdown",
   "id": "11963cc7",
   "metadata": {},
   "source": [
    "# Classifying Data with Logistic Regression in Python\n",
    "\n",
    "## Learning Objectives\n",
    "Logistic Regression is one of the simplest and most commonly used classification approaches in machine learning. Logistic regression allows us to model the relationship between independent variables and the probability of a categorical response (such as True or False, Yes or No). By the end of this tutorial, you will have learned:\n",
    "\n",
    "+ How to import, explore and prepare data\n",
    "+ How to build a Logistic Regression model\n",
    "+ How to evaluate a Logistic Regression model\n",
    "+ How to interpret the coefficients of a Logistic Regression model "
   ]
  },
  {
   "cell_type": "markdown",
   "id": "2887bb87",
   "metadata": {},
   "source": [
    "## 1. Collect the Data"
   ]
  },
  {
   "cell_type": "markdown",
   "id": "7c96c17b",
   "metadata": {},
   "source": [
    "Before we import our data, we must first import the `pandas` package."
   ]
  },
  {
   "cell_type": "code",
   "execution_count": null,
   "id": "de4b4a56",
   "metadata": {},
   "outputs": [],
   "source": [
    "import pandas as pd"
   ]
  },
  {
   "cell_type": "markdown",
   "id": "eff3ec92",
   "metadata": {},
   "source": [
    "Now, we can import our data into a dataframe called `loan`."
   ]
  },
  {
   "cell_type": "code",
   "execution_count": null,
   "id": "b53e3b3f",
   "metadata": {},
   "outputs": [],
   "source": []
  },
  {
   "cell_type": "markdown",
   "id": "836693c2",
   "metadata": {},
   "source": [
    "To verify that the import worked as expected, let’s use the `head()` method of the pandas dataframe to preview the data."
   ]
  },
  {
   "cell_type": "code",
   "execution_count": null,
   "id": "046f5901",
   "metadata": {},
   "outputs": [],
   "source": []
  },
  {
   "cell_type": "markdown",
   "id": "758f2183",
   "metadata": {},
   "source": [
    "Our dataset has three columns. The first two - `Income` and `Loan Amount` - are the predictors (or independent variables), while the last one - `Default` - is the response (or dependent variable).\n",
    "\n",
    "In this exercise, we’ll use this `loan` data to train a logistic regression model to predict whether a borrower will default or not default on a new loan based on their income and the amount of money they intend to borrow. "
   ]
  },
  {
   "cell_type": "markdown",
   "id": "e6095cae",
   "metadata": {},
   "source": [
    "## 2. Explore the Data"
   ]
  },
  {
   "cell_type": "markdown",
   "id": "c1c66cc1",
   "metadata": {},
   "source": [
    "Now that we have our data, let's try to understand it.\n",
    "\n",
    "First, let's get a concise summary of the structure of the data by calling the `info()` method of the `loan` dataframe."
   ]
  },
  {
   "cell_type": "code",
   "execution_count": null,
   "id": "67de73e2",
   "metadata": {},
   "outputs": [],
   "source": []
  },
  {
   "cell_type": "markdown",
   "id": "b7f146df",
   "metadata": {},
   "source": [
    "By looking at the `RangeIndex` value from the summary, we can tell that there are 30 instances (or rows) in the dataset. \n",
    "\n",
    "The `Data columns` value shows that the dataset consists of 3 features (or columns). Looking at the `Dtype` column within this section, we see that the `Income` and `Loan Amount` columns hold integer values, while the `Default` column holds text (aka object)."
   ]
  },
  {
   "cell_type": "markdown",
   "id": "c4602524",
   "metadata": {},
   "source": [
    "Next, let's get summary statistics for the numeric features in the data by calling the `describe()` method of the dataframe."
   ]
  },
  {
   "cell_type": "code",
   "execution_count": null,
   "id": "acdf6ca5",
   "metadata": {},
   "outputs": [],
   "source": []
  },
  {
   "cell_type": "markdown",
   "id": "8889a842",
   "metadata": {},
   "source": [
    "From the statistics, we can see the average, standard deviation, minimum, and maximum values for both the `Income` and `Loan Amount` variables. We also get the 25th, 50th and 75th percentile values for both variables.\n",
    "\n",
    "Note that the values are in the thousands, so the minimum and maximum income values are \\\\$12,000 and \\\\$34,000, respectively. \n",
    "\n",
    "Now that we've described our data structurally and numerically, let’s describe it visually as well."
   ]
  },
  {
   "cell_type": "markdown",
   "id": "1ed89ece",
   "metadata": {},
   "source": [
    "### Boxplot\n",
    "Before we create the plots we need, we must first import a couple of packages. The first is the `matplotlib` package and the second is the `seaborn` package."
   ]
  },
  {
   "cell_type": "code",
   "execution_count": null,
   "id": "7239372b",
   "metadata": {},
   "outputs": [],
   "source": [
    "from matplotlib import pyplot as plt\n",
    "import seaborn as sns"
   ]
  },
  {
   "cell_type": "markdown",
   "id": "5013146d",
   "metadata": {},
   "source": [
    "Let's start by creating a boxplot that highlights the difference in annual income between those that did not default on their loan (No) and those that did default (Yes). "
   ]
  },
  {
   "cell_type": "code",
   "execution_count": null,
   "id": "9308d55a",
   "metadata": {},
   "outputs": [],
   "source": []
  },
  {
   "cell_type": "markdown",
   "id": "6da0bae9",
   "metadata": {},
   "source": [
    "The chart shows that those that did not default on their loans tend to have a higher annual income than those that did default on their loans. "
   ]
  },
  {
   "cell_type": "markdown",
   "id": "fd1574a4",
   "metadata": {},
   "source": [
    "Next, let's create another box plot to highlight the difference in amount borrowed between those that did not default on their loans and those that did."
   ]
  },
  {
   "cell_type": "code",
   "execution_count": null,
   "id": "bcb7b490",
   "metadata": {},
   "outputs": [],
   "source": []
  },
  {
   "cell_type": "markdown",
   "id": "7158408e",
   "metadata": {},
   "source": [
    "This chart shows that those that defaulted on their loans tend to have borrowed more money than those that did not default."
   ]
  },
  {
   "cell_type": "markdown",
   "id": "9e51544a",
   "metadata": {},
   "source": [
    "### Scatterplot\n",
    "If we recode the `Default` feature values 'No' and 'Yes' to '0' and '1', we can also use a scatterplot to get a slightly different perspective of our data. "
   ]
  },
  {
   "cell_type": "markdown",
   "id": "bbdc98b1",
   "metadata": {},
   "source": [
    "However, before we do so, we must first import the `numpy` package."
   ]
  },
  {
   "cell_type": "code",
   "execution_count": null,
   "id": "04b9e4bd",
   "metadata": {},
   "outputs": [],
   "source": [
    "import numpy as np"
   ]
  },
  {
   "cell_type": "markdown",
   "id": "88188d4c",
   "metadata": {},
   "source": [
    "Now, we can create a scatterplot that describes the relationship between the annual income of borrowers and loan outcomes. "
   ]
  },
  {
   "cell_type": "code",
   "execution_count": null,
   "id": "f0e2438f",
   "metadata": {},
   "outputs": [],
   "source": []
  },
  {
   "cell_type": "markdown",
   "id": "dbcc993e",
   "metadata": {},
   "source": [
    "We can also describe the relationship between the amount borrowed and loan outcomes. "
   ]
  },
  {
   "cell_type": "code",
   "execution_count": null,
   "id": "1387c926",
   "metadata": {
    "scrolled": true
   },
   "outputs": [],
   "source": []
  },
  {
   "cell_type": "markdown",
   "id": "5b063af6",
   "metadata": {},
   "source": [
    "Looking at these two charts, we can easily imagine a sigmoid curve that fits the data. This tells us that a logistic regression function would model the relationship between the predictors (`Income` and `Loan Amount`) and the response (`Default`) well."
   ]
  }
 ],
 "metadata": {
  "kernelspec": {
   "display_name": "Python 3 (ipykernel)",
   "language": "python",
   "name": "python3"
  },
  "language_info": {
   "codemirror_mode": {
    "name": "ipython",
    "version": 3
   },
   "file_extension": ".py",
   "mimetype": "text/x-python",
   "name": "python",
   "nbconvert_exporter": "python",
   "pygments_lexer": "ipython3",
   "version": "3.9.7"
  }
 },
 "nbformat": 4,
 "nbformat_minor": 5
}
